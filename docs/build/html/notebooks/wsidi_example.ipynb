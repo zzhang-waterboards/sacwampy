{
 "cells": [
  {
   "cell_type": "markdown",
   "id": "647d2b04",
   "metadata": {},
   "source": [
    "# WSI-DI Curve Generation\n",
    "\n",
    "##  The wsidi automatic scritp\n",
    "The script that automatically calculates wsi-di curves recursively is wsidi_main.py. \n",
    "This script will perform the calculations for both SWP and CVP and all chosen scenarios in parallel. \n",
    "To run the script, in a python editor, type the following:"
   ]
  },
  {
   "cell_type": "markdown",
   "id": "93eab91e",
   "metadata": {},
   "source": [
    "%run wsidi_main.py"
   ]
  },
  {
   "cell_type": "markdown",
   "id": "15d0baed",
   "metadata": {},
   "source": [
    "The lines of code are are working are within if __name__=='__main__'"
   ]
  },
  {
   "cell_type": "markdown",
   "id": "38911057",
   "metadata": {},
   "source": [
    "## The step by step procedure for the curve generation"
   ]
  },
  {
   "cell_type": "markdown",
   "id": "38b1bffc",
   "metadata": {},
   "source": [
    "If we wish to perform curve generation in a separate script, follow these steps. "
   ]
  },
  {
   "cell_type": "markdown",
   "id": "bda66e69",
   "metadata": {},
   "source": [
    "Step 1. Define the projects and scenarios for the curve generation, and save a version of WEAP before modification. "
   ]
  },
  {
   "cell_type": "code",
   "execution_count": null,
   "id": "1ad2c251",
   "metadata": {},
   "outputs": [],
   "source": [
    "    from wsidi_main import *\n",
    "    scenarios = ['Existing','35','45','55','65','75'] # the list of scenarios for this calculation\n",
    "    projects = ['CVP','SWP'] # both CVP and SWP \n",
    "    wsidi_fd = \"../wsi-di\" #path to store intermediate and final results\n",
    "    weapapi.WEAP.SaveVersion(\"before wsidi caclulation\")    "
   ]
  },
  {
   "cell_type": "markdown",
   "id": "9ecb452f",
   "metadata": {},
   "source": [
    "Step 2. Set 1:1 as initial curves, run WEAP, and save the version. "
   ]
  },
  {
   "cell_type": "code",
   "execution_count": null,
   "id": "08f6f3ca",
   "metadata": {},
   "outputs": [],
   "source": [
    "    #set 1:1 curves\n",
    "    set_ini_wsidi(projects,scenarios)\n",
    "    # run WEAP.\n",
    "    weapapi.WEAP.Calculate(0, 0, False) #Only calculate scenarios that need calculation (for all years and timesteps)\n",
    "    weapapi.WEAP.SaveVersion(\"one to one curve\")"
   ]
  },
  {
   "cell_type": "markdown",
   "id": "42bf3fd5",
   "metadata": {},
   "source": [
    "Step 3. Calculate a new wsi-di curve the first time, run WEAP, and save the version. "
   ]
  },
  {
   "cell_type": "code",
   "execution_count": null,
   "id": "70f88389",
   "metadata": {},
   "outputs": [],
   "source": [
    "    # update wsidi curves\n",
    "    update_all_wsidi(projects,scenarios,1)\n",
    "    # run WEAP the second time.\n",
    "    weapapi.WEAP.Calculate(0, 0, False)\n",
    "    weapapi.WEAP.SaveVersion(\"1st round\")"
   ]
  },
  {
   "cell_type": "markdown",
   "id": "33cae4bf",
   "metadata": {},
   "source": [
    "Step 4. Update the wsi-di curve the second time, run WEAP, and save the version. "
   ]
  },
  {
   "cell_type": "code",
   "execution_count": null,
   "id": "b27d495c",
   "metadata": {},
   "outputs": [],
   "source": [
    "    # update wsidi curves the second time\n",
    "    update_all_wsidi(projects,scenarios,2)\n",
    "    # run WEAP the third time.\n",
    "    weapapi.WEAP.Calculate(0, 0, False)\n",
    "    weapapi.WEAP.SaveVersion(\"2nd round\")"
   ]
  },
  {
   "cell_type": "markdown",
   "id": "b7d3e77b",
   "metadata": {},
   "source": [
    "The wsi-di curve calculations are finalized. \n",
    "Make plots"
   ]
  },
  {
   "cell_type": "code",
   "execution_count": null,
   "id": "3c02b37c",
   "metadata": {},
   "outputs": [],
   "source": [
    "plot_wsidi(\"CVP\",1) # plot wsi-di curve for project CVP and iteration 1. "
   ]
  }
 ],
 "metadata": {
  "kernelspec": {
   "display_name": "Python 3 (ipykernel)",
   "language": "python",
   "name": "python3"
  },
  "language_info": {
   "codemirror_mode": {
    "name": "ipython",
    "version": 3
   },
   "file_extension": ".py",
   "mimetype": "text/x-python",
   "name": "python",
   "nbconvert_exporter": "python",
   "pygments_lexer": "ipython3",
   "version": "3.11.5"
  }
 },
 "nbformat": 4,
 "nbformat_minor": 5
}
