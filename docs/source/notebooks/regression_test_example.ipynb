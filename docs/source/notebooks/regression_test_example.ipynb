{
 "nbsphinx": {
   "execute": "never"
 },
 "cells": [
  {
   "cell_type": "markdown",
   "id": "045c29d9",
   "metadata": {},
   "source": [
    "# Regression test"
   ]
  },
  {
   "cell_type": "markdown",
   "id": "fbd233c6",
   "metadata": {},
   "source": [
    "## Purpose\n",
    "The purpose of the regression test is to quickly compare an existing run and an archived run (previous run), display a series of performance metrics and highlight those metrics exceeding predefined thresholds. \n",
    "To perform a regression test, type the following command in a python editor"
   ]
  },
  {
   "cell_type": "code",
   "execution_count": null,
   "id": "55c544b7",
   "metadata": {},
   "outputs": [],
   "source": [
    "%run regression_testing.py"
   ]
  },
  {
   "cell_type": "markdown",
   "id": "237803d1",
   "metadata": {},
   "source": [
    "or in anaconda, type:"
   ]
  },
  {
   "cell_type": "code",
   "execution_count": null,
   "id": "5ed08d84",
   "metadata": {},
   "outputs": [],
   "source": [
    "python regression_testing.py"
   ]
  },
  {
   "cell_type": "markdown",
   "id": "aa95d80b",
   "metadata": {},
   "source": [
    "## Inputs\n",
    "To customize your run, the input section of 'regression_testing.py' is explained below. "
   ]
  },
  {
   "cell_type": "markdown",
   "id": "56ca1062",
   "metadata": {},
   "source": [
    "Defines a list of favorites to compare. Note that the favorites defined have to exist for both current run and the archived run. "
   ]
  },
  {
   "cell_type": "code",
   "execution_count": null,
   "id": "b7b60a52",
   "metadata": {},
   "outputs": [],
   "source": [
    "favorites = [\"Canal Flows\",\"COA\",\"SW Storage\",\"SWRCB IFR Flows\"]"
   ]
  },
  {
   "cell_type": "markdown",
   "id": "9177cbf0",
   "metadata": {},
   "source": [
    "Defines a list of scenarios to compare."
   ]
  },
  {
   "cell_type": "code",
   "execution_count": null,
   "id": "497ab701",
   "metadata": {},
   "outputs": [],
   "source": [
    "scenarios = [\"Existing\"]"
   ]
  },
  {
   "cell_type": "markdown",
   "id": "19f37ff4",
   "metadata": {},
   "source": [
    "Define the thresholds for anomaly detection; comment out the metrics by '#' if not needed."
   ]
  },
  {
   "cell_type": "code",
   "execution_count": null,
   "id": "1cdde672",
   "metadata": {},
   "outputs": [],
   "source": [
    "metrics_threshold = {\"mean squared error\":2.0,   #mean squared error\n",
    "                     #\"mape\":0.1, #mean_absolute_percentage_error\n",
    "                     \"mean error\": 2.0,  # mean error\n",
    "                     \"mean percent error\": 0.05, #mean percent error\n",
    "                     \"correcoef\":0.9, # correlation coefficient\n",
    "                     \"skill score\":0.9} # Nash-Sutcliffe-like skill score based on mean squared error"
   ]
  },
  {
   "cell_type": "markdown",
   "id": "bddfa20e",
   "metadata": {},
   "source": [
    "Define the run names. Current run can also be defined as 'Most Recent'. \n",
    "By default, comparisons between only two runs are allowed. If more runs are defined, the script will still export the favorites for all the runs but will give an error when the results are compared. "
   ]
  },
  {
   "cell_type": "code",
   "execution_count": null,
   "id": "ea9ff23d",
   "metadata": {},
   "outputs": [],
   "source": [
    "runs = ['2024-10-24 (1)','2024-10-24 (2)']"
   ]
  },
  {
   "cell_type": "markdown",
   "id": "b0770cf7",
   "metadata": {},
   "source": [
    "Define output path for the favorites."
   ]
  },
  {
   "cell_type": "code",
   "execution_count": null,
   "id": "72a208f2",
   "metadata": {},
   "outputs": [],
   "source": [
    "output_path = \"../results\""
   ]
  },
  {
   "cell_type": "markdown",
   "id": "0b38e520",
   "metadata": {},
   "source": [
    "If results already exist, overwrite or not. "
   ]
  },
  {
   "cell_type": "code",
   "execution_count": null,
   "id": "0a8aacab",
   "metadata": {},
   "outputs": [],
   "source": [
    "overwrite_results = False"
   ]
  },
  {
   "cell_type": "markdown",
   "id": "d884db96",
   "metadata": {},
   "source": [
    "Set the output unit for favorites: only 'taf' or 'cfs' are implemented. \n",
    "If the outputs is not flow based, the unit will remain unchanged.  "
   ]
  },
  {
   "cell_type": "code",
   "execution_count": null,
   "id": "ba368c5e",
   "metadata": {},
   "outputs": [],
   "source": [
    "favorite_unit = 'taf'"
   ]
  },
  {
   "cell_type": "markdown",
   "id": "75ac1c22",
   "metadata": {},
   "source": [
    "Note that the unit conversion will slow down the script by about 10 seconds.\n",
    "If no unit convertion is required, set favorite_unit to None. "
   ]
  },
  {
   "cell_type": "code",
   "execution_count": null,
   "id": "57e54e2d",
   "metadata": {},
   "outputs": [],
   "source": [
    "favorite_unit = None"
   ]
  },
  {
   "cell_type": "markdown",
   "id": "3d0df703",
   "metadata": {},
   "source": [
    "When the script finishes, a table called 'full_report_%s.xlsx'%scenario will be generated in ouptut_path. \n",
    "The results for each performance metrics will be shown by a separate sheet.\n",
    "The values that exceed the defined thresholds will be highlighted in Red. \n",
    "<img src=\"files/report.png\">"
   ]
  }
 ],
 "metadata": {
  "kernelspec": {
   "display_name": "Python 3 (ipykernel)",
   "language": "python",
   "name": "python3"
  },
  "language_info": {
   "codemirror_mode": {
    "name": "ipython",
    "version": 3
   },
   "file_extension": ".py",
   "mimetype": "text/x-python",
   "name": "python",
   "nbconvert_exporter": "python",
   "pygments_lexer": "ipython3",
   "version": "3.11.5"
  }
 },
 "nbformat": 4,
 "nbformat_minor": 5
}
